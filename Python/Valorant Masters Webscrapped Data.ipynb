{
 "cells": [
  {
   "cell_type": "code",
   "execution_count": 36,
   "metadata": {},
   "outputs": [],
   "source": [
    "import requests\n",
    "from bs4 import BeautifulSoup\n",
    "import pandas as pd"
   ]
  },
  {
   "cell_type": "code",
   "execution_count": 63,
   "metadata": {},
   "outputs": [],
   "source": [
    "#Creating/Linking URL\n",
    "\n",
    "url = 'https://www.vlr.gg/event/stats/1494/champions-tour-2023-masters-tokyo'\n",
    "response = requests.get(url)\n",
    "soup = BeautifulSoup(response.content, 'html.parser')"
   ]
  },
  {
   "cell_type": "code",
   "execution_count": 64,
   "metadata": {},
   "outputs": [
    {
     "data": {
      "text/plain": [
       "61"
      ]
     },
     "execution_count": 64,
     "metadata": {},
     "output_type": "execute_result"
    }
   ],
   "source": [
    "data = soup.find('table',{'class','wf-table mod-stats mod-scroll'}).find('tbody').find_all('tr')\n",
    "data\n",
    "len(data)"
   ]
  },
  {
   "cell_type": "code",
   "execution_count": 66,
   "metadata": {},
   "outputs": [
    {
     "data": {
      "text/plain": [
       "'12'"
      ]
     },
     "execution_count": 66,
     "metadata": {},
     "output_type": "execute_result"
    }
   ],
   "source": [
    "#Players\n",
    "data[0].find_all('td')[0].get_text()\n",
    "\n",
    "#Agents\n",
    "data[0].find_all('td')[1].get_text()\n",
    "\n",
    "#Rounds Played\n",
    "data[0].find_all('td')[2].get_text()\n",
    "\n",
    "#Rating\n",
    "data[0].find_all('td')[3].get_text()\n",
    "\n",
    "#Average Combat Score\n",
    "data[0].find_all('td')[4].get_text()\n",
    "\n",
    "#KillDeathRatio\n",
    "data[0].find_all('td')[5].get_text()\n",
    "\n",
    "#TeamAssistPercentage\n",
    "data[0].find_all('td')[6].get_text()\n",
    "\n",
    "#Average Damage Per Round\n",
    "data[0].find_all('td')[7].get_text()\n",
    "\n",
    "#Kills Per Round\n",
    "data[0].find_all('td')[8].get_text()\n",
    "\n",
    "#Assists Per Round\n",
    "data[0].find_all('td')[9].get_text()\n",
    "\n",
    "#First Kills Per Round\n",
    "data[0].find_all('td')[10].get_text()\n",
    "\n",
    "#First Deaths Per Round\n",
    "data[0].find_all('td')[11].get_text()\n",
    "\n",
    "#Headshot Percentage\n",
    "data[0].find_all('td')[12].get_text()\n",
    "\n",
    "#Clutch Success Percentage\n",
    "data[0].find_all('td')[13].get_text()\n",
    "\n",
    "#Clutches(Won/Played)\n",
    "data[0].find_all('td')[14].get_text()\n",
    "\n",
    "#Max Kills in 1 Map\n",
    "data[0].find_all('td')[15].get_text()\n",
    "\n",
    "#Kills\n",
    "data[0].find_all('td')[16].get_text()\n",
    "\n",
    "#Deaths\n",
    "data[0].find_all('td')[17].get_text()\n",
    "\n",
    "#Assists\n",
    "data[0].find_all('td')[18].get_text()\n",
    "\n",
    "#First Bloods\n",
    "data[0].find_all('td')[19].get_text()\n",
    "\n",
    "#First Deaths\n",
    "data[0].find_all('td')[20].get_text()\n"
   ]
  },
  {
   "cell_type": "code",
   "execution_count": 71,
   "metadata": {},
   "outputs": [],
   "source": [
    "#Establishing Dataset\n",
    "\n",
    "Players = []\n",
    "Agents = []\n",
    "Rounds_Played = []\n",
    "Rating = []\n",
    "Average_Combat_Score = []\n",
    "KD_Ratio = []\n",
    "Team_Assist_Percentage = []\n",
    "Average_Damage_PR = []\n",
    "Kills_PR = []\n",
    "Assists_PR = []\n",
    "FirstBlood_PR = []\n",
    "FirstDeaths_PR = []\n",
    "Headshot_Percentage = []\n",
    "Clutch_SuccessRate = []\n",
    "Clutches_Played = []\n",
    "MaxKills_OneMap = []\n",
    "Kills = []\n",
    "Deaths = []\n",
    "Assists = []\n",
    "First_Bloods = []\n",
    "First_Deaths = []\n",
    "\n",
    "for i in data:\n",
    "    #Players\n",
    "    Players.append(i.find_all('td')[0].get_text())\n",
    "    #Agents\n",
    "    Agents.append(i.find_all('td')[1].get_text())\n",
    "    #Rounds_Played\n",
    "    Rounds_Played.append(i.find_all('td')[2].get_text())\n",
    "    #Rating\n",
    "    Rating.append(i.find_all('td')[3].get_text())\n",
    "    #Average_Combat_Score\n",
    "    Average_Combat_Score.append(i.find_all('td')[4].get_text())\n",
    "    #KD_Ratio\n",
    "    KD_Ratio.append(i.find_all('td')[5].get_text())\n",
    "    #Team_Assist_Percentage\n",
    "    Team_Assist_Percentage.append(i.find_all('td')[6].get_text())\n",
    "    #Average_Damage_PR\n",
    "    Average_Damage_PR.append(i.find_all('td')[7].get_text())\n",
    "    #Kills_PR\n",
    "    Kills_PR.append(i.find_all('td')[8].get_text())\n",
    "    #Assists_PR\n",
    "    Assists_PR.append(i.find_all('td')[9].get_text())\n",
    "    #FirstBlood_PR\n",
    "    FirstBlood_PR.append(i.find_all('td')[10].get_text())\n",
    "    #FirstDeaths_PR\n",
    "    FirstDeaths_PR.append(i.find_all('td')[11].get_text())\n",
    "    #Headshot_Percentage\n",
    "    Headshot_Percentage.append(i.find_all('td')[12].get_text())\n",
    "    #Clutch_SuccessRate\n",
    "    Clutch_SuccessRate.append(i.find_all('td')[13].get_text())\n",
    "    #Clutches_Played\n",
    "    Clutches_Played.append(i.find_all('td')[14].get_text())\n",
    "    #MaxKills_OneMap\n",
    "    MaxKills_OneMap.append(i.find_all('td')[15].get_text())\n",
    "    #Kills\n",
    "    Kills.append(i.find_all('td')[16].get_text())\n",
    "    #Deaths\n",
    "    Deaths.append(i.find_all('td')[17].get_text())\n",
    "    #Assists\n",
    "    Assists.append(i.find_all('td')[18].get_text())\n",
    "    #First_Bloods\n",
    "    First_Bloods.append(i.find_all('td')[19].get_text())\n",
    "    #First_Deaths\n",
    "    First_Deaths.append(i.find_all('td')[20].get_text())\n",
    "    \n",
    "    Valorant_df = pd.DataFrame({'Players':Players, 'Agents':Agents, 'Rounds_Played':Rounds_Played, 'Rating':Rating,\n",
    "                               'Average_Combat_Score':Average_Combat_Score, 'KD_Ratio':KD_Ratio,'Team_Assist_Percentage':Team_Assist_Percentage,\n",
    "                                'Average_Damage_PR':Average_Damage_PR, 'Kills_PR':Kills_PR, 'Assists_PR':Assists_PR, 'FirstBlood_PR':FirstBlood_PR,\n",
    "                                'FirstDeaths_PR':FirstDeaths_PR, 'Headshot_Percentage':Headshot_Percentage, 'Clutch_SuccessRate':Clutch_SuccessRate,\n",
    "                                'Clutches_Played':Clutches_Played,'MaxKills_OneMap':MaxKills_OneMap,'Kills':Kills, 'Deaths':Deaths,\n",
    "                                'Assists':Assists, 'First_Bloods':First_Bloods, 'First_Deaths':First_Deaths})"
   ]
  },
  {
   "cell_type": "code",
   "execution_count": 72,
   "metadata": {},
   "outputs": [],
   "source": [
    "#Creating Excel File\n",
    "\n",
    "Valorant_df.to_excel('ValorantMastersTokyo.xlsx',index=False)"
   ]
  }
 ],
 "metadata": {
  "kernelspec": {
   "display_name": "Python 3",
   "language": "python",
   "name": "python3"
  },
  "language_info": {
   "codemirror_mode": {
    "name": "ipython",
    "version": 3
   },
   "file_extension": ".py",
   "mimetype": "text/x-python",
   "name": "python",
   "nbconvert_exporter": "python",
   "pygments_lexer": "ipython3",
   "version": "3.8.5"
  }
 },
 "nbformat": 4,
 "nbformat_minor": 4
}
